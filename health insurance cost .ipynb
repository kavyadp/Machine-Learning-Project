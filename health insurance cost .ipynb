{
 "cells": [
  {
   "cell_type": "code",
   "execution_count": 2,
   "metadata": {
    "colab_type": "text",
    "id": "notVEk3HGpl0"
   },
   "outputs": [
    {
     "name": "stdout",
     "output_type": "stream",
     "text": [
      "(1338, 7)\n"
     ]
    },
    {
     "data": {
      "text/html": [
       "<div>\n",
       "<style scoped>\n",
       "    .dataframe tbody tr th:only-of-type {\n",
       "        vertical-align: middle;\n",
       "    }\n",
       "\n",
       "    .dataframe tbody tr th {\n",
       "        vertical-align: top;\n",
       "    }\n",
       "\n",
       "    .dataframe thead th {\n",
       "        text-align: right;\n",
       "    }\n",
       "</style>\n",
       "<table border=\"1\" class=\"dataframe\">\n",
       "  <thead>\n",
       "    <tr style=\"text-align: right;\">\n",
       "      <th></th>\n",
       "      <th>age</th>\n",
       "      <th>sex</th>\n",
       "      <th>bmi</th>\n",
       "      <th>children</th>\n",
       "      <th>smoker</th>\n",
       "      <th>region</th>\n",
       "      <th>charges</th>\n",
       "    </tr>\n",
       "  </thead>\n",
       "  <tbody>\n",
       "    <tr>\n",
       "      <th>0</th>\n",
       "      <td>19</td>\n",
       "      <td>female</td>\n",
       "      <td>27.900</td>\n",
       "      <td>0</td>\n",
       "      <td>yes</td>\n",
       "      <td>southwest</td>\n",
       "      <td>16884.92400</td>\n",
       "    </tr>\n",
       "    <tr>\n",
       "      <th>1</th>\n",
       "      <td>18</td>\n",
       "      <td>male</td>\n",
       "      <td>33.770</td>\n",
       "      <td>1</td>\n",
       "      <td>no</td>\n",
       "      <td>southeast</td>\n",
       "      <td>1725.55230</td>\n",
       "    </tr>\n",
       "    <tr>\n",
       "      <th>2</th>\n",
       "      <td>28</td>\n",
       "      <td>male</td>\n",
       "      <td>33.000</td>\n",
       "      <td>3</td>\n",
       "      <td>no</td>\n",
       "      <td>southeast</td>\n",
       "      <td>4449.46200</td>\n",
       "    </tr>\n",
       "    <tr>\n",
       "      <th>3</th>\n",
       "      <td>33</td>\n",
       "      <td>male</td>\n",
       "      <td>22.705</td>\n",
       "      <td>0</td>\n",
       "      <td>no</td>\n",
       "      <td>northwest</td>\n",
       "      <td>21984.47061</td>\n",
       "    </tr>\n",
       "    <tr>\n",
       "      <th>4</th>\n",
       "      <td>32</td>\n",
       "      <td>male</td>\n",
       "      <td>28.880</td>\n",
       "      <td>0</td>\n",
       "      <td>no</td>\n",
       "      <td>northwest</td>\n",
       "      <td>3866.85520</td>\n",
       "    </tr>\n",
       "  </tbody>\n",
       "</table>\n",
       "</div>"
      ],
      "text/plain": [
       "   age     sex     bmi  children smoker     region      charges\n",
       "0   19  female  27.900         0    yes  southwest  16884.92400\n",
       "1   18    male  33.770         1     no  southeast   1725.55230\n",
       "2   28    male  33.000         3     no  southeast   4449.46200\n",
       "3   33    male  22.705         0     no  northwest  21984.47061\n",
       "4   32    male  28.880         0     no  northwest   3866.85520"
      ]
     },
     "execution_count": 2,
     "metadata": {},
     "output_type": "execute_result"
    }
   ],
   "source": [
    "import numpy as np\n",
    "import pandas as pd\n",
    "import matplotlib.pyplot as plt\n",
    "import seaborn as sns\n",
    "data = pd.read_csv(r'C:\\Users\\Admin\\Downloads\\dataset\\insurance.csv')\n",
    "print(data.shape)\n",
    "data.head()"
   ]
  },
  {
   "cell_type": "code",
   "execution_count": 2,
   "metadata": {
    "colab_type": "text",
    "id": "HMQ7HZ5dHcPC",
    "scrolled": true
   },
   "outputs": [
    {
     "name": "stdout",
     "output_type": "stream",
     "text": [
      "<class 'pandas.core.frame.DataFrame'>\n",
      "RangeIndex: 1338 entries, 0 to 1337\n",
      "Data columns (total 7 columns):\n",
      "age         1338 non-null int64\n",
      "sex         1338 non-null object\n",
      "bmi         1338 non-null float64\n",
      "children    1338 non-null int64\n",
      "smoker      1338 non-null object\n",
      "region      1338 non-null object\n",
      "charges     1338 non-null float64\n",
      "dtypes: float64(2), int64(2), object(3)\n",
      "memory usage: 73.2+ KB\n"
     ]
    }
   ],
   "source": [
    "data.info()"
   ]
  },
  {
   "cell_type": "code",
   "execution_count": 3,
   "metadata": {
    "colab": {
     "base_uri": "https://localhost:8080/",
     "height": 224
    },
    "colab_type": "code",
    "id": "CZ5UDRJMHQJ2",
    "outputId": "ea6812e6-828b-4fa4-c8d5-655fb8181d4b"
   },
   "outputs": [
    {
     "data": {
      "text/html": [
       "<div>\n",
       "<style scoped>\n",
       "    .dataframe tbody tr th:only-of-type {\n",
       "        vertical-align: middle;\n",
       "    }\n",
       "\n",
       "    .dataframe tbody tr th {\n",
       "        vertical-align: top;\n",
       "    }\n",
       "\n",
       "    .dataframe thead th {\n",
       "        text-align: right;\n",
       "    }\n",
       "</style>\n",
       "<table border=\"1\" class=\"dataframe\">\n",
       "  <thead>\n",
       "    <tr style=\"text-align: right;\">\n",
       "      <th></th>\n",
       "      <th>age</th>\n",
       "      <th>bmi</th>\n",
       "      <th>children</th>\n",
       "      <th>charges</th>\n",
       "    </tr>\n",
       "  </thead>\n",
       "  <tbody>\n",
       "    <tr>\n",
       "      <th>count</th>\n",
       "      <td>1338.000000</td>\n",
       "      <td>1338.000000</td>\n",
       "      <td>1338.000000</td>\n",
       "      <td>1338.000000</td>\n",
       "    </tr>\n",
       "    <tr>\n",
       "      <th>mean</th>\n",
       "      <td>39.207025</td>\n",
       "      <td>30.663397</td>\n",
       "      <td>1.094918</td>\n",
       "      <td>13270.422265</td>\n",
       "    </tr>\n",
       "    <tr>\n",
       "      <th>std</th>\n",
       "      <td>14.049960</td>\n",
       "      <td>6.098187</td>\n",
       "      <td>1.205493</td>\n",
       "      <td>12110.011237</td>\n",
       "    </tr>\n",
       "    <tr>\n",
       "      <th>min</th>\n",
       "      <td>18.000000</td>\n",
       "      <td>15.960000</td>\n",
       "      <td>0.000000</td>\n",
       "      <td>1121.873900</td>\n",
       "    </tr>\n",
       "    <tr>\n",
       "      <th>25%</th>\n",
       "      <td>27.000000</td>\n",
       "      <td>26.296250</td>\n",
       "      <td>0.000000</td>\n",
       "      <td>4740.287150</td>\n",
       "    </tr>\n",
       "    <tr>\n",
       "      <th>50%</th>\n",
       "      <td>39.000000</td>\n",
       "      <td>30.400000</td>\n",
       "      <td>1.000000</td>\n",
       "      <td>9382.033000</td>\n",
       "    </tr>\n",
       "    <tr>\n",
       "      <th>75%</th>\n",
       "      <td>51.000000</td>\n",
       "      <td>34.693750</td>\n",
       "      <td>2.000000</td>\n",
       "      <td>16639.912515</td>\n",
       "    </tr>\n",
       "    <tr>\n",
       "      <th>max</th>\n",
       "      <td>64.000000</td>\n",
       "      <td>53.130000</td>\n",
       "      <td>5.000000</td>\n",
       "      <td>63770.428010</td>\n",
       "    </tr>\n",
       "  </tbody>\n",
       "</table>\n",
       "</div>"
      ],
      "text/plain": [
       "               age          bmi     children       charges\n",
       "count  1338.000000  1338.000000  1338.000000   1338.000000\n",
       "mean     39.207025    30.663397     1.094918  13270.422265\n",
       "std      14.049960     6.098187     1.205493  12110.011237\n",
       "min      18.000000    15.960000     0.000000   1121.873900\n",
       "25%      27.000000    26.296250     0.000000   4740.287150\n",
       "50%      39.000000    30.400000     1.000000   9382.033000\n",
       "75%      51.000000    34.693750     2.000000  16639.912515\n",
       "max      64.000000    53.130000     5.000000  63770.428010"
      ]
     },
     "execution_count": 3,
     "metadata": {},
     "output_type": "execute_result"
    }
   ],
   "source": [
    "data.describe()"
   ]
  },
  {
   "cell_type": "code",
   "execution_count": 4,
   "metadata": {
    "colab": {
     "base_uri": "https://localhost:8080/",
     "height": 235
    },
    "colab_type": "code",
    "id": "UmEDUlCKIEgJ",
    "outputId": "63ba3f7a-602f-44c1-b501-3da6fcee2f90"
   },
   "outputs": [
    {
     "data": {
      "text/plain": [
       "age         0\n",
       "sex         0\n",
       "bmi         0\n",
       "children    0\n",
       "smoker      0\n",
       "region      0\n",
       "charges     0\n",
       "dtype: int64"
      ]
     },
     "execution_count": 4,
     "metadata": {},
     "output_type": "execute_result"
    }
   ],
   "source": [
    "#checking number of missing values\n",
    "data.isnull().sum()"
   ]
  },
  {
   "cell_type": "code",
   "execution_count": 5,
   "metadata": {
    "colab": {
     "base_uri": "https://localhost:8080/",
     "height": 144
    },
    "colab_type": "code",
    "id": "xEy1fzKwKeMi",
    "outputId": "5cc6f644-4383-4920-88f8-dac637e61670"
   },
   "outputs": [
    {
     "data": {
      "text/plain": [
       "0    574\n",
       "1    324\n",
       "2    240\n",
       "3    157\n",
       "4     25\n",
       "5     18\n",
       "Name: children, dtype: int64"
      ]
     },
     "execution_count": 5,
     "metadata": {},
     "output_type": "execute_result"
    }
   ],
   "source": [
    "data['children'].value_counts()"
   ]
  },
  {
   "cell_type": "code",
   "execution_count": 6,
   "metadata": {
    "colab": {
     "base_uri": "https://localhost:8080/",
     "height": 72
    },
    "colab_type": "code",
    "id": "kx0_OVg_Kqvz",
    "outputId": "dd1baf0e-ba7e-4772-be61-6d336fbfeeef"
   },
   "outputs": [
    {
     "data": {
      "text/plain": [
       "no     1064\n",
       "yes     274\n",
       "Name: smoker, dtype: int64"
      ]
     },
     "execution_count": 6,
     "metadata": {},
     "output_type": "execute_result"
    }
   ],
   "source": [
    "data['smoker'].value_counts()"
   ]
  },
  {
   "cell_type": "code",
   "execution_count": 7,
   "metadata": {
    "colab": {
     "base_uri": "https://localhost:8080/",
     "height": 108
    },
    "colab_type": "code",
    "id": "l1hN5msDKz4t",
    "outputId": "75a6f29e-2be1-49a2-d542-a11cc0b214c2"
   },
   "outputs": [
    {
     "data": {
      "text/plain": [
       "southeast    364\n",
       "northwest    325\n",
       "southwest    325\n",
       "northeast    324\n",
       "Name: region, dtype: int64"
      ]
     },
     "execution_count": 7,
     "metadata": {},
     "output_type": "execute_result"
    }
   ],
   "source": [
    "data['region'].value_counts()"
   ]
  },
  {
   "cell_type": "code",
   "execution_count": 8,
   "metadata": {
    "colab": {
     "base_uri": "https://localhost:8080/",
     "height": 35
    },
    "colab_type": "code",
    "id": "2SvtnsDLK7Hn",
    "outputId": "01cadb79-efae-4316-8491-2ba03126f9e1"
   },
   "outputs": [
    {
     "data": {
      "text/plain": [
       "Index(['age', 'sex', 'bmi', 'children', 'smoker', 'region', 'charges'], dtype='object')"
      ]
     },
     "execution_count": 8,
     "metadata": {},
     "output_type": "execute_result"
    }
   ],
   "source": [
    "data.columns"
   ]
  },
  {
   "cell_type": "markdown",
   "metadata": {
    "colab_type": "text",
    "id": "MDf-b51wSV3-"
   },
   "source": [
    "**Data Analysis**"
   ]
  },
  {
   "cell_type": "code",
   "execution_count": 9,
   "metadata": {
    "colab": {
     "base_uri": "https://localhost:8080/",
     "height": 587
    },
    "colab_type": "code",
    "id": "moW1_ymGSTQ-",
    "outputId": "b267ba48-a612-4fc5-e9b6-7cc66b8a0d3d"
   },
   "outputs": [
    {
     "data": {
      "image/png": "[encoded data removed]",
      "text/plain": [
       "<Figure size 360x360 with 1 Axes>"
      ]
     },
     "metadata": {},
     "output_type": "display_data"
    }
   ],
   "source": [
    "# distribution of age value\n",
    "sns.set()\n",
    "plt.figure(figsize = (5, 5))\n",
    "sns.distplot(data['age'])\n",
    "plt.xlabel('Age')\n",
    "plt.ylabel('density')\n",
    "plt.title(\"Age Distribution\")\n",
    "plt.show()"
   ]
  },
  {
   "cell_type": "code",
   "execution_count": 10,
   "metadata": {
    "colab": {
     "base_uri": "https://localhost:8080/",
     "height": 478
    },
    "colab_type": "code",
    "id": "9DJIbfZ9TOh8",
    "outputId": "5f0c849b-6990-413f-f0bc-885ea331a65e"
   },
   "outputs": [
    {
     "data": {
      "image/png": "[encoded data removed]",
      "text/plain": [
       "<Figure size 360x360 with 1 Axes>"
      ]
     },
     "metadata": {},
     "output_type": "display_data"
    }
   ],
   "source": [
    "plt.figure(figsize = (5, 5))\n",
    "sns.countplot(data['sex'])\n",
    "plt.title(\"sex Distribution\")\n",
    "plt.show()"
   ]
  },
  {
   "cell_type": "code",
   "execution_count": 11,
   "metadata": {},
   "outputs": [
    {
     "data": {
      "text/plain": [
       "male      676\n",
       "female    662\n",
       "Name: sex, dtype: int64"
      ]
     },
     "execution_count": 11,
     "metadata": {},
     "output_type": "execute_result"
    }
   ],
   "source": [
    "data['sex'].value_counts()"
   ]
  },
  {
   "cell_type": "code",
   "execution_count": 12,
   "metadata": {},
   "outputs": [
    {
     "data": {
      "image/png": "[encoded data removed]",
      "text/plain": [
       "<Figure size 360x360 with 1 Axes>"
      ]
     },
     "metadata": {},
     "output_type": "display_data"
    }
   ],
   "source": [
    "plt.figure(figsize = (5, 5))\n",
    "sns.distplot(data['bmi'])\n",
    "plt.xlabel('density')\n",
    "plt.ylabel('charges')\n",
    "plt.title(\"BMI Distribution\")\n",
    "plt.show()"
   ]
  },
  {
   "cell_type": "code",
   "execution_count": 13,
   "metadata": {},
   "outputs": [
    {
     "data": {
      "image/png": "[encoded data removed]",
      "text/plain": [
       "<Figure size 360x360 with 1 Axes>"
      ]
     },
     "metadata": {},
     "output_type": "display_data"
    }
   ],
   "source": [
    "plt.figure(figsize = (5, 5))\n",
    "sns.countplot(data['children'])\n",
    "plt.title(\"Children Distribution\")\n",
    "plt.show()"
   ]
  },
  {
   "cell_type": "code",
   "execution_count": 14,
   "metadata": {},
   "outputs": [
    {
     "data": {
      "text/plain": [
       "0    574\n",
       "1    324\n",
       "2    240\n",
       "3    157\n",
       "4     25\n",
       "5     18\n",
       "Name: children, dtype: int64"
      ]
     },
     "execution_count": 14,
     "metadata": {},
     "output_type": "execute_result"
    }
   ],
   "source": [
    "data['children'].value_counts()"
   ]
  },
  {
   "cell_type": "code",
   "execution_count": 15,
   "metadata": {},
   "outputs": [
    {
     "data": {
      "image/png": "[encoded data removed]",
      "text/plain": [
       "<Figure size 360x360 with 1 Axes>"
      ]
     },
     "metadata": {},
     "output_type": "display_data"
    }
   ],
   "source": [
    "plt.figure(figsize = (5, 5))\n",
    "sns.countplot(data['smoker'])\n",
    "plt.title(\"smoker Distribution\")\n",
    "plt.show()"
   ]
  },
  {
   "cell_type": "code",
   "execution_count": 16,
   "metadata": {},
   "outputs": [
    {
     "data": {
      "text/plain": [
       "no     1064\n",
       "yes     274\n",
       "Name: smoker, dtype: int64"
      ]
     },
     "execution_count": 16,
     "metadata": {},
     "output_type": "execute_result"
    }
   ],
   "source": [
    "data['smoker'].value_counts()"
   ]
  },
  {
   "cell_type": "code",
   "execution_count": 17,
   "metadata": {},
   "outputs": [
    {
     "data": {
      "image/png": "[encoded data removed]",
      "text/plain": [
       "<Figure size 360x360 with 1 Axes>"
      ]
     },
     "metadata": {},
     "output_type": "display_data"
    }
   ],
   "source": [
    "plt.figure(figsize = (5, 5))\n",
    "sns.countplot(data['region'])\n",
    "plt.title(\"Region Distribution\")\n",
    "plt.show()"
   ]
  },
  {
   "cell_type": "code",
   "execution_count": 18,
   "metadata": {},
   "outputs": [
    {
     "data": {
      "image/png": "[encoded data removed]",
      "text/plain": [
       "<Figure size 360x360 with 1 Axes>"
      ]
     },
     "metadata": {},
     "output_type": "display_data"
    }
   ],
   "source": [
    "plt.figure(figsize = (5, 5))\n",
    "sns.distplot(data['charges'])\n",
    "plt.title(\"Charges Distribution\")\n",
    "plt.show()"
   ]
  },
  {
   "cell_type": "code",
   "execution_count": 19,
   "metadata": {},
   "outputs": [
    {
     "data": {
      "text/plain": [
       "Text(0.5, 1.0, 'region vs charges')"
      ]
     },
     "execution_count": 19,
     "metadata": {},
     "output_type": "execute_result"
    },
    {
     "data": {
      "image/png": "[encoded data removed]",
      "text/plain": [
       "<Figure size 360x360 with 1 Axes>"
      ]
     },
     "metadata": {},
     "output_type": "display_data"
    }
   ],
   "source": [
    "# region vs charges\n",
    "# From the graph we can see that the region actually does not play any role in determining the insurance charges\n",
    "\n",
    "plt.figure(figsize = (5, 5))\n",
    "sns.barplot(x = 'region', y = 'charges', data = data)\n",
    "\n",
    "plt.title('region vs charges')"
   ]
  },
  {
   "cell_type": "code",
   "execution_count": 20,
   "metadata": {},
   "outputs": [
    {
     "data": {
      "text/plain": [
       "Text(0.5, 1.0, 'children vs charges')"
      ]
     },
     "execution_count": 20,
     "metadata": {},
     "output_type": "execute_result"
    },
    {
     "data": {
      "image/png": "[encoded data removed]",
      "text/plain": [
       "<Figure size 360x360 with 1 Axes>"
      ]
     },
     "metadata": {},
     "output_type": "display_data"
    }
   ],
   "source": [
    "# children vs charges\n",
    "# no. of childrens of a person has a very interesting dependency on insurance costs\n",
    "\n",
    "plt.figure(figsize = (5, 5))\n",
    "sns.barplot(x = 'children', y = 'charges', data = data)\n",
    "\n",
    "plt.title('children vs charges')"
   ]
  },
  {
   "cell_type": "code",
   "execution_count": 21,
   "metadata": {},
   "outputs": [
    {
     "data": {
      "text/plain": [
       "Text(0.5, 1.0, 'smoker vs charges')"
      ]
     },
     "execution_count": 21,
     "metadata": {},
     "output_type": "execute_result"
    },
    {
     "data": {
      "image/png": "[encoded data removed]",
      "text/plain": [
       "<Figure size 360x360 with 1 Axes>"
      ]
     },
     "metadata": {},
     "output_type": "display_data"
    }
   ],
   "source": [
    "# smoker vs charges\n",
    "# from the graph below, it is visible that smokers have more insurance charges than the non smokers\n",
    "\n",
    "plt.figure(figsize = (5, 5))\n",
    "sns.barplot(x = 'smoker', y = 'charges', data = data)\n",
    "plt.title('smoker vs charges')"
   ]
  },
  {
   "cell_type": "code",
   "execution_count": 22,
   "metadata": {},
   "outputs": [
    {
     "data": {
      "text/plain": [
       "Text(0.5, 1.0, 'sex vs charges')"
      ]
     },
     "execution_count": 22,
     "metadata": {},
     "output_type": "execute_result"
    },
    {
     "data": {
      "image/png": "[encoded data removed]",
      "text/plain": [
       "<Figure size 360x360 with 1 Axes>"
      ]
     },
     "metadata": {},
     "output_type": "display_data"
    }
   ],
   "source": [
    "plt.figure(figsize = (5, 5))\n",
    "sns.barplot(x = 'sex', y = 'charges', data = data)\n",
    "plt.title('sex vs charges')"
   ]
  },
  {
   "cell_type": "code",
   "execution_count": 23,
   "metadata": {},
   "outputs": [
    {
     "data": {
      "text/plain": [
       "Text(0.5, 1.0, 'age vs charges')"
      ]
     },
     "execution_count": 23,
     "metadata": {},
     "output_type": "execute_result"
    },
    {
     "data": {
      "image/png": "[encoded data removed]",
      "text/plain": [
       "<Figure size 1080x432 with 1 Axes>"
      ]
     },
     "metadata": {},
     "output_type": "display_data"
    }
   ],
   "source": [
    "plt.figure(figsize = (15, 6))\n",
    "sns.barplot(x = 'age', y = 'charges', data = data)\n",
    "plt.title('age vs charges')"
   ]
  },
  {
   "cell_type": "markdown",
   "metadata": {},
   "source": [
    "**Data Preprocessing**"
   ]
  },
  {
   "cell_type": "code",
   "execution_count": 24,
   "metadata": {},
   "outputs": [
    {
     "name": "stdout",
     "output_type": "stream",
     "text": [
      "(1338, 6)\n"
     ]
    },
    {
     "data": {
      "text/plain": [
       "Index(['age', 'sex', 'bmi', 'children', 'smoker', 'charges'], dtype='object')"
      ]
     },
     "execution_count": 24,
     "metadata": {},
     "output_type": "execute_result"
    }
   ],
   "source": [
    "#removing unnecessary columns from the dataset\n",
    "data=data.drop('region', axis=1)\n",
    "print(data.shape)\n",
    "data.columns"
   ]
  },
  {
   "cell_type": "code",
   "execution_count": 25,
   "metadata": {},
   "outputs": [
    {
     "name": "stdout",
     "output_type": "stream",
     "text": [
      "      age  sex     bmi  children  smoker      charges\n",
      "0      19    1  27.900         0       0  16884.92400\n",
      "1      18    0  33.770         1       1   1725.55230\n",
      "2      28    0  33.000         3       1   4449.46200\n",
      "3      33    0  22.705         0       1  21984.47061\n",
      "4      32    0  28.880         0       1   3866.85520\n",
      "5      31    1  25.740         0       1   3756.62160\n",
      "6      46    1  33.440         1       1   8240.58960\n",
      "7      37    1  27.740         3       1   7281.50560\n",
      "8      37    0  29.830         2       1   6406.41070\n",
      "9      60    1  25.840         0       1  28923.13692\n",
      "10     25    0  26.220         0       1   2721.32080\n",
      "11     62    1  26.290         0       0  27808.72510\n",
      "12     23    0  34.400         0       1   1826.84300\n",
      "13     56    1  39.820         0       1  11090.71780\n",
      "14     27    0  42.130         0       0  39611.75770\n",
      "15     19    0  24.600         1       1   1837.23700\n",
      "16     52    1  30.780         1       1  10797.33620\n",
      "17     23    0  23.845         0       1   2395.17155\n",
      "18     56    0  40.300         0       1  10602.38500\n",
      "19     30    0  35.300         0       0  36837.46700\n",
      "20     60    1  36.005         0       1  13228.84695\n",
      "21     30    1  32.400         1       1   4149.73600\n",
      "22     18    0  34.100         0       1   1137.01100\n",
      "23     34    1  31.920         1       0  37701.87680\n",
      "24     37    0  28.025         2       1   6203.90175\n",
      "25     59    1  27.720         3       1  14001.13380\n",
      "26     63    1  23.085         0       1  14451.83515\n",
      "27     55    1  32.775         2       1  12268.63225\n",
      "28     23    0  17.385         1       1   2775.19215\n",
      "29     31    0  36.300         2       0  38711.00000\n",
      "...   ...  ...     ...       ...     ...          ...\n",
      "1308   25    1  30.200         0       0  33900.65300\n",
      "1309   41    0  32.200         2       1   6875.96100\n",
      "1310   42    0  26.315         1       1   6940.90985\n",
      "1311   33    1  26.695         0       1   4571.41305\n",
      "1312   34    0  42.900         1       1   4536.25900\n",
      "1313   19    1  34.700         2       0  36397.57600\n",
      "1314   30    1  23.655         3       0  18765.87545\n",
      "1315   18    0  28.310         1       1  11272.33139\n",
      "1316   19    1  20.600         0       1   1731.67700\n",
      "1317   18    0  53.130         0       1   1163.46270\n",
      "1318   35    0  39.710         4       1  19496.71917\n",
      "1319   39    1  26.315         2       1   7201.70085\n",
      "1320   31    0  31.065         3       1   5425.02335\n",
      "1321   62    0  26.695         0       0  28101.33305\n",
      "1322   62    0  38.830         0       1  12981.34570\n",
      "1323   42    1  40.370         2       0  43896.37630\n",
      "1324   31    0  25.935         1       1   4239.89265\n",
      "1325   61    0  33.535         0       1  13143.33665\n",
      "1326   42    1  32.870         0       1   7050.02130\n",
      "1327   51    0  30.030         1       1   9377.90470\n",
      "1328   23    1  24.225         2       1  22395.74424\n",
      "1329   52    0  38.600         2       1  10325.20600\n",
      "1330   57    1  25.740         2       1  12629.16560\n",
      "1331   23    1  33.400         0       1  10795.93733\n",
      "1332   52    1  44.700         3       1  11411.68500\n",
      "1333   50    0  30.970         3       1  10600.54830\n",
      "1334   18    1  31.920         0       1   2205.98080\n",
      "1335   18    1  36.850         0       1   1629.83350\n",
      "1336   21    1  25.800         0       1   2007.94500\n",
      "1337   61    1  29.070         0       0  29141.36030\n",
      "\n",
      "[1338 rows x 6 columns]\n"
     ]
    }
   ],
   "source": [
    "#encoding sex, smoker and region columns\n",
    "data.replace({'sex':{'male':0, 'female':1}}, inplace=True)\n",
    "data.replace({'smoker':{'yes':0, 'no':1}}, inplace=True)\n",
    "print(data)"
   ]
  },
  {
   "cell_type": "markdown",
   "metadata": {},
   "source": [
    "**Splitting features and target**"
   ]
  },
  {
   "cell_type": "code",
   "execution_count": 26,
   "metadata": {},
   "outputs": [],
   "source": [
    "X=data.drop(columns='charges', axis=1)\n",
    "Y=data['charges']"
   ]
  },
  {
   "cell_type": "code",
   "execution_count": 27,
   "metadata": {},
   "outputs": [
    {
     "name": "stdout",
     "output_type": "stream",
     "text": [
      "      age  sex     bmi  children  smoker\n",
      "0      19    1  27.900         0       0\n",
      "1      18    0  33.770         1       1\n",
      "2      28    0  33.000         3       1\n",
      "3      33    0  22.705         0       1\n",
      "4      32    0  28.880         0       1\n",
      "5      31    1  25.740         0       1\n",
      "6      46    1  33.440         1       1\n",
      "7      37    1  27.740         3       1\n",
      "8      37    0  29.830         2       1\n",
      "9      60    1  25.840         0       1\n",
      "10     25    0  26.220         0       1\n",
      "11     62    1  26.290         0       0\n",
      "12     23    0  34.400         0       1\n",
      "13     56    1  39.820         0       1\n",
      "14     27    0  42.130         0       0\n",
      "15     19    0  24.600         1       1\n",
      "16     52    1  30.780         1       1\n",
      "17     23    0  23.845         0       1\n",
      "18     56    0  40.300         0       1\n",
      "19     30    0  35.300         0       0\n",
      "20     60    1  36.005         0       1\n",
      "21     30    1  32.400         1       1\n",
      "22     18    0  34.100         0       1\n",
      "23     34    1  31.920         1       0\n",
      "24     37    0  28.025         2       1\n",
      "25     59    1  27.720         3       1\n",
      "26     63    1  23.085         0       1\n",
      "27     55    1  32.775         2       1\n",
      "28     23    0  17.385         1       1\n",
      "29     31    0  36.300         2       0\n",
      "...   ...  ...     ...       ...     ...\n",
      "1308   25    1  30.200         0       0\n",
      "1309   41    0  32.200         2       1\n",
      "1310   42    0  26.315         1       1\n",
      "1311   33    1  26.695         0       1\n",
      "1312   34    0  42.900         1       1\n",
      "1313   19    1  34.700         2       0\n",
      "1314   30    1  23.655         3       0\n",
      "1315   18    0  28.310         1       1\n",
      "1316   19    1  20.600         0       1\n",
      "1317   18    0  53.130         0       1\n",
      "1318   35    0  39.710         4       1\n",
      "1319   39    1  26.315         2       1\n",
      "1320   31    0  31.065         3       1\n",
      "1321   62    0  26.695         0       0\n",
      "1322   62    0  38.830         0       1\n",
      "1323   42    1  40.370         2       0\n",
      "1324   31    0  25.935         1       1\n",
      "1325   61    0  33.535         0       1\n",
      "1326   42    1  32.870         0       1\n",
      "1327   51    0  30.030         1       1\n",
      "1328   23    1  24.225         2       1\n",
      "1329   52    0  38.600         2       1\n",
      "1330   57    1  25.740         2       1\n",
      "1331   23    1  33.400         0       1\n",
      "1332   52    1  44.700         3       1\n",
      "1333   50    0  30.970         3       1\n",
      "1334   18    1  31.920         0       1\n",
      "1335   18    1  36.850         0       1\n",
      "1336   21    1  25.800         0       1\n",
      "1337   61    1  29.070         0       0\n",
      "\n",
      "[1338 rows x 5 columns]\n"
     ]
    }
   ],
   "source": [
    "print(X)"
   ]
  },
  {
   "cell_type": "code",
   "execution_count": 28,
   "metadata": {},
   "outputs": [
    {
     "name": "stdout",
     "output_type": "stream",
     "text": [
      "0       16884.92400\n",
      "1        1725.55230\n",
      "2        4449.46200\n",
      "3       21984.47061\n",
      "4        3866.85520\n",
      "5        3756.62160\n",
      "6        8240.58960\n",
      "7        7281.50560\n",
      "8        6406.41070\n",
      "9       28923.13692\n",
      "10       2721.32080\n",
      "11      27808.72510\n",
      "12       1826.84300\n",
      "13      11090.71780\n",
      "14      39611.75770\n",
      "15       1837.23700\n",
      "16      10797.33620\n",
      "17       2395.17155\n",
      "18      10602.38500\n",
      "19      36837.46700\n",
      "20      13228.84695\n",
      "21       4149.73600\n",
      "22       1137.01100\n",
      "23      37701.87680\n",
      "24       6203.90175\n",
      "25      14001.13380\n",
      "26      14451.83515\n",
      "27      12268.63225\n",
      "28       2775.19215\n",
      "29      38711.00000\n",
      "           ...     \n",
      "1308    33900.65300\n",
      "1309     6875.96100\n",
      "1310     6940.90985\n",
      "1311     4571.41305\n",
      "1312     4536.25900\n",
      "1313    36397.57600\n",
      "1314    18765.87545\n",
      "1315    11272.33139\n",
      "1316     1731.67700\n",
      "1317     1163.46270\n",
      "1318    19496.71917\n",
      "1319     7201.70085\n",
      "1320     5425.02335\n",
      "1321    28101.33305\n",
      "1322    12981.34570\n",
      "1323    43896.37630\n",
      "1324     4239.89265\n",
      "1325    13143.33665\n",
      "1326     7050.02130\n",
      "1327     9377.90470\n",
      "1328    22395.74424\n",
      "1329    10325.20600\n",
      "1330    12629.16560\n",
      "1331    10795.93733\n",
      "1332    11411.68500\n",
      "1333    10600.54830\n",
      "1334     2205.98080\n",
      "1335     1629.83350\n",
      "1336     2007.94500\n",
      "1337    29141.36030\n",
      "Name: charges, Length: 1338, dtype: float64\n"
     ]
    }
   ],
   "source": [
    "print(Y)"
   ]
  },
  {
   "cell_type": "markdown",
   "metadata": {},
   "source": [
    "**Splitting the data into Train and Test data**"
   ]
  },
  {
   "cell_type": "code",
   "execution_count": 29,
   "metadata": {},
   "outputs": [
    {
     "name": "stdout",
     "output_type": "stream",
     "text": [
      "(1338, 5) (1070, 5) (268, 5)\n"
     ]
    }
   ],
   "source": [
    "from sklearn.model_selection import train_test_split\n",
    "X_train, X_test, Y_train, Y_test = train_test_split(X, Y, test_size=0.2, random_state=2)\n",
    "print(X.shape, X_train.shape, X_test.shape)"
   ]
  },
  {
   "cell_type": "markdown",
   "metadata": {},
   "source": [
    "**Model Training**\n",
    "    "
   ]
  },
  {
   "cell_type": "markdown",
   "metadata": {},
   "source": [
    "Linear Regression"
   ]
  },
  {
   "cell_type": "code",
   "execution_count": 30,
   "metadata": {},
   "outputs": [
    {
     "data": {
      "text/plain": [
       "LinearRegression(copy_X=True, fit_intercept=True, n_jobs=None,\n",
       "         normalize=False)"
      ]
     },
     "execution_count": 30,
     "metadata": {},
     "output_type": "execute_result"
    }
   ],
   "source": [
    "#loading regression model\n",
    "from sklearn.linear_model import LinearRegression\n",
    "regressor=LinearRegression()\n",
    "regressor.fit(X_train, Y_train)"
   ]
  },
  {
   "cell_type": "markdown",
   "metadata": {},
   "source": [
    "**Model Evaluation**"
   ]
  },
  {
   "cell_type": "code",
   "execution_count": 31,
   "metadata": {},
   "outputs": [
    {
     "name": "stdout",
     "output_type": "stream",
     "text": [
      "R squared value : 0.7511416233816596\n"
     ]
    }
   ],
   "source": [
    "#prediction on training data\n",
    "training_data_prediction=regressor.predict(X_train)\n",
    "# r squared value\n",
    "from sklearn import metrics\n",
    "r2_train= metrics.r2_score(Y_train, training_data_prediction)\n",
    "print('R squared value :', r2_train)"
   ]
  },
  {
   "cell_type": "code",
   "execution_count": 32,
   "metadata": {},
   "outputs": [
    {
     "name": "stdout",
     "output_type": "stream",
     "text": [
      "R squared value : 0.7428803779811104\n"
     ]
    }
   ],
   "source": [
    "#prediction on test data\n",
    "test_data_prediction=regressor.predict(X_test)\n",
    "r2_test= metrics.r2_score(Y_test, test_data_prediction)\n",
    "print('R squared value :', r2_test)"
   ]
  },
  {
   "cell_type": "code",
   "execution_count": 33,
   "metadata": {},
   "outputs": [
    {
     "name": "stdout",
     "output_type": "stream",
     "text": [
      "CV scores: [0.79684608 0.80652097 0.7667892  0.6294878  0.6776965 ] \n",
      "\n",
      "CV scores mean: 0.7354681092071209\n"
     ]
    }
   ],
   "source": [
    "#cross validation\n",
    "from sklearn.model_selection import cross_val_score\n",
    "CV = [] # list for CV scores mean\n",
    "scores=cross_val_score(regressor, X_train, Y_train, scoring='r2', cv=5)\n",
    "print(\"CV scores:\",scores,\"\\n\")\n",
    "CV.append(scores.mean())\n",
    "print(\"CV scores mean:\",scores.mean())"
   ]
  },
  {
   "cell_type": "code",
   "execution_count": 34,
   "metadata": {},
   "outputs": [
    {
     "name": "stdout",
     "output_type": "stream",
     "text": [
      "           Actual     Predicted\n",
      "17     2395.17155   1472.107481\n",
      "1091  11286.53870  11463.646164\n",
      "273    9617.66245  10014.353222\n",
      "270    1719.43630   2566.761066\n",
      "874    8891.13950   7883.987944\n",
      "790    5662.22500  11262.254437\n",
      "957   12609.88702   3252.806397\n",
      "492    2196.47320    624.826810\n",
      "1125  14254.60820  11959.363083\n",
      "794    7209.49180   9275.780085\n",
      "575   12222.89830  11368.467335\n",
      "571    2219.44510   5117.104696\n",
      "235   19444.26580  30324.944354\n",
      "940    1121.87390      9.606569\n",
      "658   26392.26029  12232.062165\n",
      "532   12925.88600  13586.182235\n",
      "101    3645.08940   3751.823563\n",
      "1190   5327.40025   7534.227530\n",
      "142   18972.49500  29781.735383\n",
      "471    2203.47185   2235.297267\n",
      "457   11840.77505  12180.106977\n",
      "363    2597.77900   2389.518347\n",
      "621   40182.24600  34525.790156\n",
      "280   22331.56680  31625.242431\n",
      "1036  37484.44930  30523.886970\n",
      "1089  10577.08700   9225.953588\n",
      "579    3206.49135   1871.410901\n",
      "356    8944.11510  15437.351639\n",
      "694    3577.99900   6587.572737\n",
      "388    3176.81590   1849.813370\n",
      "...           ...           ...\n",
      "1296   1708.92575    941.984202\n",
      "119    6686.43130   6037.261765\n",
      "810    9414.92000  11267.539500\n",
      "710    1727.54000   4431.516332\n",
      "771   11150.78000  11132.436608\n",
      "37     2302.30000   1253.784436\n",
      "1007  24915.22085  34575.381652\n",
      "502   22218.11490  32808.327092\n",
      "486   12475.35130  10298.320035\n",
      "70    16577.77950  26686.062089\n",
      "403   10269.46000  12485.866717\n",
      "182    4005.42250   1734.934399\n",
      "946    7160.09400  11255.362454\n",
      "1150   2203.73595   2296.069737\n",
      "708    6113.23105   7391.804935\n",
      "932   10096.97000  10824.866871\n",
      "66    14235.07200  17113.668588\n",
      "1271   3021.80915   5396.214165\n",
      "540    6196.44800  10547.953254\n",
      "1212   1702.45530   -546.941314\n",
      "172    1694.79640  -2309.342946\n",
      "487    1253.93600   2017.489683\n",
      "741   18246.49550  28076.333361\n",
      "1037  39725.51805  33644.291226\n",
      "1096  44641.19740  37170.562822\n",
      "232    1727.78500  -1451.839775\n",
      "323   11566.30055  15505.501638\n",
      "1337  29141.36030  36631.707996\n",
      "1066   8978.18510  13243.218064\n",
      "966   23967.38305  33902.144480\n",
      "\n",
      "[268 rows x 2 columns]\n"
     ]
    }
   ],
   "source": [
    "dframe=pd.DataFrame(Y_test, test_data_prediction)\n",
    "dfr=pd.DataFrame({'Actual':Y_test, 'Predicted':test_data_prediction})\n",
    "print(dfr)"
   ]
  },
  {
   "cell_type": "markdown",
   "metadata": {},
   "source": [
    "**Building a Predictive system**"
   ]
  },
  {
   "cell_type": "code",
   "execution_count": 36,
   "metadata": {},
   "outputs": [
    {
     "name": "stdout",
     "output_type": "stream",
     "text": [
      "The insurance cost is 3751.8235632624346\n"
     ]
    }
   ],
   "source": [
    "input_data=(30,0,25.46,0,1)\n",
    "#changing input_data to numpy array\n",
    "input_data_as_numpy_array=np.asarray(input_data)\n",
    "#reshape the array\n",
    "input_data_reshaped= input_data_as_numpy_array.reshape(1, -1)\n",
    "prediction=regressor.predict(input_data_reshaped)\n",
    "\n",
    "print('The insurance cost is',prediction[0])"
   ]
  },
  {
   "cell_type": "code",
   "execution_count": 37,
   "metadata": {},
   "outputs": [
    {
     "data": {
      "text/plain": [
       "<matplotlib.axes._subplots.AxesSubplot at 0x24d1d95ac88>"
      ]
     },
     "execution_count": 37,
     "metadata": {},
     "output_type": "execute_result"
    },
    {
     "data": {
      "image/png": "[encoded data removed]",
      "text/plain": [
       "<Figure size 432x288 with 1 Axes>"
      ]
     },
     "metadata": {},
     "output_type": "display_data"
    }
   ],
   "source": [
    "graph=dfr.head(20)\n",
    "graph.plot(kind='bar')"
   ]
  },
  {
   "cell_type": "code",
   "execution_count": null,
   "metadata": {},
   "outputs": [],
   "source": []
  }
 ],
 "metadata": {
  "colab": {
   "collapsed_sections": [],
   "name": "Copy of InsuranceClaim.ipynb",
   "provenance": []
  },
  "kernelspec": {
   "display_name": "Python 3",
   "language": "python",
   "name": "python3"
  },
  "language_info": {
   "codemirror_mode": {
    "name": "ipython",
    "version": 3
   },
   "file_extension": ".py",
   "mimetype": "text/x-python",
   "name": "python",
   "nbconvert_exporter": "python",
   "pygments_lexer": "ipython3",
   "version": "3.7.3"
  }
 },
 "nbformat": 4,
 "nbformat_minor": 1
}
